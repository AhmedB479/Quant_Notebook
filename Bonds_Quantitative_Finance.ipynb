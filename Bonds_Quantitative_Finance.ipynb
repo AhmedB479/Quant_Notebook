{
 "cells": [
  {
   "cell_type": "markdown",
   "metadata": {},
   "source": [
    "# Time Value of Money"
   ]
  },
  {
   "cell_type": "code",
   "execution_count": 1,
   "metadata": {},
   "outputs": [],
   "source": [
    "from math import exp as e"
   ]
  },
  {
   "cell_type": "code",
   "execution_count": 3,
   "metadata": {},
   "outputs": [
    {
     "name": "stdout",
     "output_type": "stream",
     "text": [
      "127.62815625000003\n",
      "78.35261664684589\n",
      "128.40254166877415\n",
      "77.8800783071405\n"
     ]
    }
   ],
   "source": [
    "def future_discrete_value(x,r,n): #x is money , r is interest rate , n is the TIMESTAMP\n",
    "    return x*(1+r)**n\n",
    "def present_discrete_value(x,r,n):\n",
    "    return x*(1+r)**-n\n",
    "def future_continous_value(x,r,t): ##x is money , r is interest rate , t is the overall time itself\n",
    "    return x*e(r*t)\n",
    "def present_continous_value(x,r,t):\n",
    "    return x*e(-r*t)\n",
    "\n",
    "\n",
    "\n",
    "if __name__ == \"__main__\":\n",
    "\n",
    "    x = 100\n",
    "    r = 0.05\n",
    "    n = 5 #years\n",
    "\n",
    "    print(future_discrete_value(x,r,n))\n",
    "    print(present_discrete_value(x,r,n))\n",
    "    print(future_continous_value(x,r,n))\n",
    "    print(present_continous_value(x,r,n))\n",
    "\n"
   ]
  },
  {
   "cell_type": "markdown",
   "metadata": {},
   "source": [
    "# Bond Pricing"
   ]
  },
  {
   "cell_type": "code",
   "execution_count": 9,
   "metadata": {},
   "outputs": [
    {
     "name": "stdout",
     "output_type": "stream",
     "text": [
      "The price of the zero bonds will be 924.56\n"
     ]
    }
   ],
   "source": [
    "class ZeroCouponBonds:\n",
    "    def __init__(self,principle,maturity,interest_rate) -> None:\n",
    "        #principle amount\n",
    "        self.principle = principle\n",
    "        #date to maturity\n",
    "        self.maturity = maturity\n",
    "        #market interest rate (discounting)\n",
    "        self.interest_rate = interest_rate / 100\n",
    "        \n",
    "    def present_zero(self,x,n):\n",
    "        return x/(1+self.interest_rate)**n\n",
    "    \n",
    "    def calculate_price(self):\n",
    "        return self.present_zero(self.principle,self.maturity)\n",
    "    \n",
    "\n",
    "if __name__ == \"__main__\":\n",
    "    bond = ZeroCouponBonds(1000,2,4)\n",
    "    print(\"The price of the zero bonds will be %.2f\" % bond.calculate_price())"
   ]
  },
  {
   "cell_type": "code",
   "execution_count": 13,
   "metadata": {},
   "outputs": [
    {
     "name": "stdout",
     "output_type": "stream",
     "text": [
      "Bond prices:  1166.51\n"
     ]
    }
   ],
   "source": [
    "class CouponBonds:\n",
    "    def __init__(self,principle,rate,maturity,interest_rate):\n",
    "        self.principle = principle\n",
    "        self.rate = rate / 100\n",
    "        self.maturity = maturity\n",
    "        self.interest_rate = interest_rate / 100\n",
    "    \n",
    "    def present_value(self,x,n):\n",
    "        return x/(1+self.interest_rate)**n\n",
    "    \n",
    "    def calculate_price(self):\n",
    "        #discount coupon payment\n",
    "        price = 0\n",
    "        \n",
    "        for t in range(1,self.maturity+1):\n",
    "            price = price + self.present_value(self.principle * self.rate, t)\n",
    "\n",
    "        #discount principle payment \n",
    "        price = price + self.present_value(self.principle , self.maturity)\n",
    "\n",
    "        return price\n",
    "\n",
    "if __name__ == \"__main__\":\n",
    "    bonds = CouponBonds(1000,10,3,4)\n",
    "    print(\"Bond prices:  %.2f\" % bonds.calculate_price())"
   ]
  },
  {
   "cell_type": "markdown",
   "metadata": {},
   "source": [
    "# Exercise - continuous model for discounting"
   ]
  },
  {
   "cell_type": "code",
   "execution_count": 14,
   "metadata": {},
   "outputs": [
    {
     "name": "stdout",
     "output_type": "stream",
     "text": [
      "Bond prices:  1164.00\n"
     ]
    }
   ],
   "source": [
    "from math import exp\n",
    "class CouponBonds:\n",
    "    def __init__(self,principle,rate,maturity,interest_rate):\n",
    "        self.principle = principle\n",
    "        self.rate = rate / 100\n",
    "        self.maturity = maturity\n",
    "        self.interest_rate = interest_rate / 100\n",
    "    \n",
    "    def present_value(self,x,n):\n",
    "        return x * (exp(-self.interest_rate*n))\n",
    "    \n",
    "    def calculate_price(self):\n",
    "        #discount coupon payment\n",
    "        price = 0\n",
    "        \n",
    "        for t in range(1,self.maturity+1):\n",
    "            price = price + self.present_value(self.principle * self.rate, t)\n",
    "\n",
    "        #discount principle payment \n",
    "        price = price + self.present_value(self.principle , self.maturity)\n",
    "\n",
    "        return price\n",
    "\n",
    "if __name__ == \"__main__\":\n",
    "    bonds = CouponBonds(1000,10,3,4)\n",
    "    print(\"Bond prices:  %.2f\" % bonds.calculate_price())"
   ]
  }
 ],
 "metadata": {
  "kernelspec": {
   "display_name": "Python 3",
   "language": "python",
   "name": "python3"
  },
  "language_info": {
   "codemirror_mode": {
    "name": "ipython",
    "version": 3
   },
   "file_extension": ".py",
   "mimetype": "text/x-python",
   "name": "python",
   "nbconvert_exporter": "python",
   "pygments_lexer": "ipython3",
   "version": "3.11.9"
  }
 },
 "nbformat": 4,
 "nbformat_minor": 2
}
